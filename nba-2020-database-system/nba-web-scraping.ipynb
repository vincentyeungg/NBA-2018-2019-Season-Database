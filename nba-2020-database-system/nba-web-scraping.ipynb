{
 "cells": [
  {
   "cell_type": "markdown",
   "metadata": {},
   "source": [
    "# 1. Obtaining data for 'Teams' "
   ]
  },
  {
   "cell_type": "markdown",
   "metadata": {},
   "source": [
    "## - create directory to store downloaded files, obtain data for each time, and save to a csv file"
   ]
  },
  {
   "cell_type": "code",
   "execution_count": 1,
   "metadata": {},
   "outputs": [],
   "source": [
    "import requests\n",
    "import os\n",
    "\n",
    "year = 2019\n",
    "base_url = \"https://www.basketball-reference.com\"\n",
    "url = f\"https://www.basketball-reference.com/leagues/NBA_{year}.html\"\n",
    "\n",
    "data = requests.get(url)\n",
    "\n",
    "# create directory\n",
    "dir_name = 'data'\n",
    "try:\n",
    "    os.makedirs(dir_name)\n",
    "except OSError as error:\n",
    "    print(f'Directory \"{dir_name}\" cannot be created')\n",
    "\n",
    "# download data and save into html file for data parsing, instead of downloading the entire page each time\n",
    "with open(f\"data/{year}.html\", \"w+\", encoding=\"cp437\", errors='ignore') as f:\n",
    "    f.write(data.text)\n"
   ]
  },
  {
   "cell_type": "code",
   "execution_count": 2,
   "metadata": {},
   "outputs": [],
   "source": [
    "from bs4 import BeautifulSoup\n",
    "\n",
    "with open(f\"data/{year}.html\") as f:\n",
    "    # read the file and store the data as a string obj\n",
    "    page = f.read()\n",
    "\n",
    "# initialize soup object to parse html data\n",
    "soup = BeautifulSoup(page, \"html.parser\")\n",
    "\n",
    "# get the abbreviated team names and store into a list (some abbreviated names are different on this site)\n",
    "nba_team_pages = []\n",
    "\n",
    "# find the appropriate tables with the team stats for every team in the NBA\n",
    "eastern_conf_table = soup.find(id=\"confs_standings_E\")\n",
    "western_conf_table = soup.find(id=\"confs_standings_W\")\n",
    "\n",
    "# eastern conference teams\n",
    "for a in eastern_conf_table.find_all('a'):\n",
    "    nba_team_pages.append(a['href'])\n",
    "\n",
    "# western conference teams\n",
    "for a in western_conf_table.find_all('a'):\n",
    "    nba_team_pages.append(a['href'])\n",
    "\n",
    "# team abbrs\n",
    "team_abbrs = []\n",
    "\n",
    "for abbr in nba_team_pages:\n",
    "    team_abbrs.append(abbr.split('/')[2])\n",
    "\n",
    "# at this step, you will have a list of abbreviated team names that matches the format the site uses\n"
   ]
  },
  {
   "cell_type": "code",
   "execution_count": 3,
   "metadata": {},
   "outputs": [],
   "source": [
    "# from selenium import webdriver\n",
    "# import time\n",
    "\n",
    "# create directory\n",
    "parent_dir = dir_name\n",
    "dir_name = os.path.join(parent_dir, 'teams')\n",
    "\n",
    "try:\n",
    "    os.makedirs(dir_name)\n",
    "except OSError as error:\n",
    "    print(f'Directory \"{dir_name}\" cannot be created')\n"
   ]
  },
  {
   "cell_type": "code",
   "execution_count": 4,
   "metadata": {},
   "outputs": [],
   "source": [
    "# go through each page and save them to their corresponding html files\n",
    "for abbr_name in team_abbrs:\n",
    "    # use Selenium here to allow page content that require Javascript to be rendered\n",
    "\n",
    "    url = f\"https://www.basketball-reference.com/teams/{abbr_name}/{year}.html\"\n",
    "\n",
    "    html_data = requests.get(url)\n",
    "\n",
    "    # download data and save into html file for data parsing, instead of downloading the entire page each time\n",
    "    with open(f\"{dir_name}/{abbr_name}.html\", \"w+\", encoding=\"cp437\", errors='ignore') as f:\n",
    "        f.write(html_data.text)\n",
    "\n",
    "# at this step, you will have the html files of all the individual teams\n"
   ]
  },
  {
   "cell_type": "code",
   "execution_count": 5,
   "metadata": {},
   "outputs": [],
   "source": [
    "# sort the names to match directory order\n",
    "team_abbrs.sort()\n"
   ]
  },
  {
   "cell_type": "code",
   "execution_count": 6,
   "metadata": {},
   "outputs": [],
   "source": [
    "import pandas as pd\n",
    "import re\n",
    "\n",
    "teams_df = pd.DataFrame(\n",
    "    columns=['Name', 'Abbreviated Name', 'Arena', 'Wins', 'Losses', 'W-L'])\n",
    "\n",
    "for idx, team in enumerate(team_abbrs, start=1):\n",
    "    # each team should have a name, abbr name, wins, losses, location\n",
    "    with open(f'data/teams/{team}.html', encoding=\"cp437\", errors='ignore') as f:\n",
    "        page = f.read()\n",
    "\n",
    "        # initialize soup object to parse html data\n",
    "        soup = BeautifulSoup(page, \"html.parser\")\n",
    "\n",
    "        # team name\n",
    "        team_name = soup.find(id=\"info\").find_all('span')[1].extract().text\n",
    "\n",
    "        # wins/losses\n",
    "        wins_and_losses = soup.find(id=\"info\").select_one('div[data-template=\"Partials/Teams/Summary\"]').find(\n",
    "            'p').extract().text.replace(\" \", \"\").replace(\"\\n\", \"\").split(\",\")[0].split(\":\")[1]\n",
    "        wins = wins_and_losses.split(\"-\")[0]\n",
    "        losses = wins_and_losses.split(\"-\")[1]\n",
    "\n",
    "        # location i.e. arena\n",
    "        # filter string to find the arena name\n",
    "        locations = soup.find(id=\"info\").select_one(\n",
    "            'div[data-template=\"Partials/Teams/Summary\"]').find_all('p')\n",
    "        pattern = 'Attendance'\n",
    "        location = None\n",
    "        match = None\n",
    "\n",
    "        # find the tag with the arena\n",
    "        for loc in locations:\n",
    "            match = (re.search(pattern, loc.text))\n",
    "            if match:\n",
    "                location = loc.text\n",
    "                break\n",
    "\n",
    "        # # obtain only the arena name, and filter further\n",
    "        # location = location[:match.start()].replace(\"\\n\", \"\").replace(\" \", \"\").split(\":\")[-1]\n",
    "        location = location[:match.start()].replace(\n",
    "            \"\\n\", \"\").split(\":\")[-1].strip()\n",
    "\n",
    "        teams_df.loc[idx] = [team_name, team,\n",
    "                             location, wins, losses, wins_and_losses]\n"
   ]
  },
  {
   "cell_type": "code",
   "execution_count": 72,
   "metadata": {},
   "outputs": [],
   "source": [
    "team_names = list(teams_df.loc[:, 'Name'])"
   ]
  },
  {
   "cell_type": "code",
   "execution_count": 287,
   "metadata": {},
   "outputs": [],
   "source": [
    "# convert the wins and lossees columns from strings to ints\n",
    "teams_df['Wins'] = pd.to_numeric(teams_df['Wins'])\n",
    "teams_df['Losses'] = pd.to_numeric(teams_df['Losses'])"
   ]
  },
  {
   "cell_type": "code",
   "execution_count": 288,
   "metadata": {},
   "outputs": [
    {
     "name": "stdout",
     "output_type": "stream",
     "text": [
      "Directory \"csv_files\" cannot be created\n"
     ]
    }
   ],
   "source": [
    "# create directory\n",
    "dir_name = 'csv_files'\n",
    "\n",
    "try:\n",
    "    os.makedirs(dir_name)\n",
    "except OSError as error:\n",
    "    print(f'Directory \"{dir_name}\" cannot be created')\n",
    "\n",
    "teams_df.to_csv('csv_files/teams.csv')\n"
   ]
  },
  {
   "cell_type": "markdown",
   "metadata": {},
   "source": [
    "## 2. Obtain team stats data for each team, filter data, convert to dataframe, and save to csv file"
   ]
  },
  {
   "cell_type": "code",
   "execution_count": 225,
   "metadata": {},
   "outputs": [
    {
     "name": "stdout",
     "output_type": "stream",
     "text": [
      "Directory \"csv_files\" cannot be created\n"
     ]
    }
   ],
   "source": [
    "from bs4 import Comment\n",
    "\n",
    "teams_stats_df = pd.DataFrame(\n",
    "    columns=[\n",
    "        # \"Name\",\n",
    "        \"Field Goals\",\n",
    "        \"Field Goals Attempted\",\n",
    "        \"Field Goal %\",\n",
    "        \"3-Point Field Goals\",\n",
    "        \"3-Point Field Goals Attempted\",\n",
    "        \"3-Point Field Goal %\",\n",
    "        \"2-Point Field Goals\",\n",
    "        \"2-Point Field Goals Attempted\",\n",
    "        \"2-Point Field Goal %\",\n",
    "        \"Free Throws\",\n",
    "        \"Free Throws Attempted\",\n",
    "        \"Free Throw %\",\n",
    "        \"Offensive Rebounds\",\n",
    "        \"Defensive Rebounds\",\n",
    "        \"Total Rebounds\",\n",
    "        \"Assists\",\n",
    "        \"Steals\",\n",
    "        \"Blocks\",\n",
    "        \"Turnovers\",\n",
    "        \"Personal Fouls\",\n",
    "        \"Points\",\n",
    "    ]\n",
    ")\n",
    "\n",
    "\n",
    "for idx, team in enumerate(team_abbrs, start=1):\n",
    "    # each team should have a name, abbr name, wins, losses, location\n",
    "    with open(f'data/teams/{team}.html', encoding=\"cp437\", errors='ignore') as f:\n",
    "        page = f.read()\n",
    "\n",
    "        # initialize soup object to parse html data\n",
    "        soup = BeautifulSoup(page, \"html.parser\")\n",
    "\n",
    "        comments = soup.find_all(string=lambda text: isinstance(text, Comment))\n",
    "\n",
    "        # filter for the commented tables, and returns a list of tables and their contents\n",
    "        table_comments = list(\n",
    "            filter(lambda comment: 'table' in str(comment), comments))\n",
    "\n",
    "        # obtain the team stats table\n",
    "        team_table = []\n",
    "        for comment in table_comments:\n",
    "            try:\n",
    "                team_table.append(pd.read_html(\n",
    "                    comment, attrs={'id': 'team_and_opponent'})[0])\n",
    "            except:\n",
    "                continue\n",
    "\n",
    "        team_df = team_table[0]\n",
    "        \n",
    "        # filter the data, replace 'nan' with 0 values\n",
    "        team_df = team_df.fillna(0)\n",
    "\n",
    "        # filter for only the first columns where the target data is\n",
    "        team_stats_dict = dict(team_df.iloc[1])\n",
    "\n",
    "        # removing columns that don't need\n",
    "        team_stats_list = [\n",
    "            stat\n",
    "            for (category, stat) in team_stats_dict.items()\n",
    "            if category not in [\"Unnamed: 0\", \"G\", \"MP\"]\n",
    "        ]\n",
    "        \n",
    "        # add to dataframe\n",
    "        teams_stats_df.loc[idx] = (team_stats_list)\n",
    "\n",
    "# append the team names as a column in the table\n",
    "teams_stats_df['Name'] = team_names\n",
    "\n"
   ]
  },
  {
   "cell_type": "code",
   "execution_count": 295,
   "metadata": {},
   "outputs": [],
   "source": [
    "# need to adjust column data types from objects to floats\n",
    "\n",
    "# iterate through the column names, and change all column types to float64\n",
    "for col in list(teams_stats_df.keys()):\n",
    "    if col != 'Name':\n",
    "        teams_stats_df = teams_stats_df.astype({col: float})"
   ]
  },
  {
   "cell_type": "code",
   "execution_count": 297,
   "metadata": {},
   "outputs": [
    {
     "name": "stdout",
     "output_type": "stream",
     "text": [
      "Directory \"csv_files\" cannot be created\n"
     ]
    }
   ],
   "source": [
    "# create directory\n",
    "dir_name = 'csv_files'\n",
    "\n",
    "try:\n",
    "    os.makedirs(dir_name)\n",
    "except OSError as error:\n",
    "    print(f'Directory \"{dir_name}\" cannot be created')\n",
    "\n",
    "teams_stats_df.to_csv('csv_files/teams_stats.csv')"
   ]
  },
  {
   "cell_type": "markdown",
   "metadata": {},
   "source": [
    "# 3. Obtain player basic info i.e. Name, Date of Birth, Position, Team and save to csv file"
   ]
  },
  {
   "cell_type": "code",
   "execution_count": 226,
   "metadata": {},
   "outputs": [],
   "source": [
    "from datetime import datetime"
   ]
  },
  {
   "cell_type": "code",
   "execution_count": 180,
   "metadata": {},
   "outputs": [
    {
     "data": {
      "text/html": [
       "<div>\n",
       "<style scoped>\n",
       "    .dataframe tbody tr th:only-of-type {\n",
       "        vertical-align: middle;\n",
       "    }\n",
       "\n",
       "    .dataframe tbody tr th {\n",
       "        vertical-align: top;\n",
       "    }\n",
       "\n",
       "    .dataframe thead th {\n",
       "        text-align: right;\n",
       "    }\n",
       "</style>\n",
       "<table border=\"1\" class=\"dataframe\">\n",
       "  <thead>\n",
       "    <tr style=\"text-align: right;\">\n",
       "      <th></th>\n",
       "      <th>Name</th>\n",
       "      <th>Date of Birth</th>\n",
       "      <th>Position</th>\n",
       "      <th>Team</th>\n",
       "    </tr>\n",
       "  </thead>\n",
       "  <tbody>\n",
       "    <tr>\n",
       "      <th>0</th>\n",
       "      <td>Trae Young</td>\n",
       "      <td>1998-09-19</td>\n",
       "      <td>Point Guard</td>\n",
       "      <td>Atlanta Hawks</td>\n",
       "    </tr>\n",
       "    <tr>\n",
       "      <th>1</th>\n",
       "      <td>John Collins</td>\n",
       "      <td>1997-09-23</td>\n",
       "      <td>Power Forward</td>\n",
       "      <td>Atlanta Hawks</td>\n",
       "    </tr>\n",
       "    <tr>\n",
       "      <th>2</th>\n",
       "      <td>Taurean Prince</td>\n",
       "      <td>1994-03-22</td>\n",
       "      <td>Power Forward and Small Forward</td>\n",
       "      <td>Atlanta Hawks</td>\n",
       "    </tr>\n",
       "    <tr>\n",
       "      <th>3</th>\n",
       "      <td>Kevin Huerter</td>\n",
       "      <td>1998-08-27</td>\n",
       "      <td>Shooting Guard</td>\n",
       "      <td>Atlanta Hawks</td>\n",
       "    </tr>\n",
       "    <tr>\n",
       "      <th>4</th>\n",
       "      <td>Dewayne Dedmon</td>\n",
       "      <td>1989-08-12</td>\n",
       "      <td>Center</td>\n",
       "      <td>Atlanta Hawks</td>\n",
       "    </tr>\n",
       "    <tr>\n",
       "      <th>...</th>\n",
       "      <td>...</td>\n",
       "      <td>...</td>\n",
       "      <td>...</td>\n",
       "      <td>...</td>\n",
       "    </tr>\n",
       "    <tr>\n",
       "      <th>617</th>\n",
       "      <td>Ron Baker</td>\n",
       "      <td>1993-03-30</td>\n",
       "      <td>Shooting Guard</td>\n",
       "      <td>Washington Wizards</td>\n",
       "    </tr>\n",
       "    <tr>\n",
       "      <th>618</th>\n",
       "      <td>Jason Smith</td>\n",
       "      <td>1986-03-02</td>\n",
       "      <td>Center and Power Forward</td>\n",
       "      <td>Washington Wizards</td>\n",
       "    </tr>\n",
       "    <tr>\n",
       "      <th>619</th>\n",
       "      <td>Gary Payton II</td>\n",
       "      <td>1992-12-01</td>\n",
       "      <td>Point Guard and Small Forward</td>\n",
       "      <td>Washington Wizards</td>\n",
       "    </tr>\n",
       "    <tr>\n",
       "      <th>620</th>\n",
       "      <td>John Jenkins</td>\n",
       "      <td>1991-03-06</td>\n",
       "      <td>Shooting Guard</td>\n",
       "      <td>Washington Wizards</td>\n",
       "    </tr>\n",
       "    <tr>\n",
       "      <th>621</th>\n",
       "      <td>Okaro White</td>\n",
       "      <td>1992-08-13</td>\n",
       "      <td>Power Forward</td>\n",
       "      <td>Washington Wizards</td>\n",
       "    </tr>\n",
       "  </tbody>\n",
       "</table>\n",
       "<p>622 rows × 4 columns</p>\n",
       "</div>"
      ],
      "text/plain": [
       "               Name Date of Birth                         Position  \\\n",
       "0        Trae Young    1998-09-19                      Point Guard   \n",
       "1      John Collins    1997-09-23                    Power Forward   \n",
       "2    Taurean Prince    1994-03-22  Power Forward and Small Forward   \n",
       "3     Kevin Huerter    1998-08-27                   Shooting Guard   \n",
       "4    Dewayne Dedmon    1989-08-12                           Center   \n",
       "..              ...           ...                              ...   \n",
       "617       Ron Baker    1993-03-30                   Shooting Guard   \n",
       "618     Jason Smith    1986-03-02         Center and Power Forward   \n",
       "619  Gary Payton II    1992-12-01    Point Guard and Small Forward   \n",
       "620    John Jenkins    1991-03-06                   Shooting Guard   \n",
       "621     Okaro White    1992-08-13                    Power Forward   \n",
       "\n",
       "                   Team  \n",
       "0         Atlanta Hawks  \n",
       "1         Atlanta Hawks  \n",
       "2         Atlanta Hawks  \n",
       "3         Atlanta Hawks  \n",
       "4         Atlanta Hawks  \n",
       "..                  ...  \n",
       "617  Washington Wizards  \n",
       "618  Washington Wizards  \n",
       "619  Washington Wizards  \n",
       "620  Washington Wizards  \n",
       "621  Washington Wizards  \n",
       "\n",
       "[622 rows x 4 columns]"
      ]
     },
     "execution_count": 180,
     "metadata": {},
     "output_type": "execute_result"
    }
   ],
   "source": [
    "players_df = pd.DataFrame(\n",
    "    columns=[\n",
    "        'Name',\n",
    "        'Date of Birth',\n",
    "        'Position',\n",
    "        'Team'\n",
    "    ]\n",
    ")\n",
    "\n",
    "# for each team, it contains data of their roster and their stats\n",
    "# each player name contains a link to their profile page with the necessary data\n",
    "for team in team_abbrs:\n",
    "    with open(f'data/teams/{team}.html', encoding=\"cp437\", errors='ignore') as f:\n",
    "        page = f.read()\n",
    "\n",
    "        # initialize soup object to parse html data\n",
    "        soup = BeautifulSoup(page, \"html.parser\")\n",
    "        \n",
    "        # for each time, find a list of the players and their <a> tag pointing to their profile\n",
    "        players_stats_list = soup.find('table', id=\"per_game\").find_all('a')\n",
    "        \n",
    "        # filter the list\n",
    "        players_stats_links = [ a for a in players_stats_list if '/gamelog/' not in str(a) ]\n",
    "        \n",
    "        # obtain only the links, not the entire <a> tag\n",
    "        players_stats_links = [ str(href).split('\"')[1] for href in players_stats_links ]\n",
    "        \n",
    "        # obtain the team name\n",
    "        team_name = soup.find(id=\"info\").find_all('span')[1].extract().text\n",
    "        \n",
    "        for url in players_stats_links:\n",
    "            # go to url of specific player\n",
    "            html_data = requests.get(base_url + url)\n",
    "            \n",
    "            # get the html content of the url\n",
    "            html = html_data.text\n",
    "            \n",
    "            # need to extract Name, Age, Position, Team\n",
    "            # initialize soup object to parse html data\n",
    "            soup = BeautifulSoup(html, \"html.parser\")\n",
    "            info = soup.find(id='meta').find('div', class_=lambda class_name: class_name != 'media-item')\n",
    "            \n",
    "            # name\n",
    "            name = info.find('h1').find('span').text\n",
    "            \n",
    "            # date of birth\n",
    "            dob = info.find('span', id=lambda _id: _id == 'necro-birth').text.replace('\\n', \"\").split(',')\n",
    "            dob = \" \".join([element.strip() for element in dob])\n",
    "            dob_obj = datetime.strptime(dob, \"%B %d %Y\")\n",
    "            dob = str(dob_obj).split(' ')[0]\n",
    "            \n",
    "            # position\n",
    "            position_element = [p for p in info.find_all('p') if 'Position' in str(p)]\n",
    "            position = position_element[0].text.replace(\"\\n\", \"\").strip().replace(\"▪\", \"\").replace(\"         \", \",\").split(\", \")[0].split(\":\")[1].strip()    \n",
    "            \n",
    "            # add it as a new row into players_df at the end\n",
    "            players_df.loc[players_df.shape[0]] = [name, dob, position, team_name]\n",
    "\n",
    "\n",
    "# players_df"
   ]
  },
  {
   "cell_type": "code",
   "execution_count": 298,
   "metadata": {},
   "outputs": [],
   "source": [
    "# change type of dob to datetime64\n",
    "players_df['Date of Birth'] = pd.to_datetime(players_df['Date of Birth'])"
   ]
  },
  {
   "cell_type": "code",
   "execution_count": 299,
   "metadata": {},
   "outputs": [
    {
     "name": "stdout",
     "output_type": "stream",
     "text": [
      "Directory \"csv_files\" cannot be created\n"
     ]
    }
   ],
   "source": [
    "# adjust indexing on current data frame\n",
    "players_df.index += 1\n",
    "\n",
    "# save it to a csv file\n",
    "\n",
    "# create directory\n",
    "dir_name = 'csv_files'\n",
    "\n",
    "try:\n",
    "    os.makedirs(dir_name)\n",
    "except OSError as error:\n",
    "    print(f'Directory \"{dir_name}\" cannot be created')\n",
    "\n",
    "players_df.to_csv('csv_files/players.csv')"
   ]
  },
  {
   "cell_type": "markdown",
   "metadata": {},
   "source": [
    "# 4. Obtain player stats and save to csv file"
   ]
  },
  {
   "cell_type": "code",
   "execution_count": 282,
   "metadata": {},
   "outputs": [
    {
     "name": "stdout",
     "output_type": "stream",
     "text": [
      "Directory \"csv_files\" cannot be created\n"
     ]
    }
   ],
   "source": [
    "players_stats_df = pd.DataFrame(\n",
    "    columns=[\n",
    "        \"Name\",\n",
    "        \"Minutes Played\",\n",
    "        \"Field Goals\",\n",
    "        \"Field Goals Attempted\",\n",
    "        \"Field Goal %\",\n",
    "        \"3-Point Field Goals\",\n",
    "        \"3-Point Field Goals Attempted\",\n",
    "        \"3-Point Field Goal %\",\n",
    "        \"2-Point Field Goals\",\n",
    "        \"2-Point Field Goals Attempted\",\n",
    "        \"2-Point Field Goal %\",\n",
    "        \"Effective Field Goal %\",\n",
    "        \"Free Throws\",\n",
    "        \"Free Throws Attempted\",\n",
    "        \"Free Throw %\",\n",
    "        \"Offensive Rebounds\",\n",
    "        \"Defensive Rebounds\",\n",
    "        \"Total Rebounds\",\n",
    "        \"Assists\",\n",
    "        \"Steals\",\n",
    "        \"Blocks\",\n",
    "        \"Turnovers\",\n",
    "        \"Personal Fouls\",\n",
    "        \"Points\",\n",
    "    ]\n",
    ")\n",
    "\n",
    "for team in team_abbrs:\n",
    "    # for each team, it contains data of their roster and their stats\n",
    "    with open(f'data/teams/{team}.html', encoding=\"cp437\", errors='ignore') as f:\n",
    "        page = f.read()\n",
    "\n",
    "        # initialize soup object to parse html data\n",
    "        soup = BeautifulSoup(page, \"html.parser\")\n",
    "\n",
    "        # find table with the per game stats of the players\n",
    "        players_stats_table = soup.find('table', id=\"per_game\")\n",
    "\n",
    "        # convert table to pandas dataframe\n",
    "        stats_df = pd.read_html(str(players_stats_table))[0]\n",
    "\n",
    "        # drop rk, age, g, gs columns\n",
    "        stats_df = stats_df.drop([\"Rk\", \"Age\", \"G\", \"GS\"], axis=1)\n",
    "\n",
    "        # filter the data, replace 'nan' with 0 values\n",
    "        stats_df = stats_df.fillna(0)\n",
    "\n",
    "        stats_df = stats_df.values.tolist()\n",
    "\n",
    "        # insert the stats rows for each player into the dataframe\n",
    "        for stats_row in stats_df:\n",
    "            players_stats_df.loc[players_stats_df.shape[0]] = stats_row\n",
    "\n"
   ]
  },
  {
   "cell_type": "code",
   "execution_count": 301,
   "metadata": {},
   "outputs": [],
   "source": [
    "# need to adjust column data types from objects to floats\n",
    "\n",
    "# iterate through the column names, and change all column types to float64\n",
    "for col in list(players_stats_df.keys()):\n",
    "    if col != 'Name':\n",
    "        players_stats_df = players_stats_df.astype({col: float})"
   ]
  },
  {
   "cell_type": "code",
   "execution_count": 302,
   "metadata": {},
   "outputs": [
    {
     "name": "stdout",
     "output_type": "stream",
     "text": [
      "Directory \"csv_files\" cannot be created\n"
     ]
    }
   ],
   "source": [
    "# adjust indexing on current data frame\n",
    "players_stats_df.index += 1\n",
    "\n",
    "# save it to a csv file\n",
    "\n",
    "# create directory\n",
    "dir_name = 'csv_files'\n",
    "\n",
    "try:\n",
    "    os.makedirs(dir_name)\n",
    "except OSError as error:\n",
    "    print(f'Directory \"{dir_name}\" cannot be created')\n",
    "\n",
    "players_stats_df.to_csv('csv_files/players_stats.csv')"
   ]
  },
  {
   "cell_type": "markdown",
   "metadata": {},
   "source": [
    "# 5. Obtain coach details and save to csv file"
   ]
  },
  {
   "cell_type": "code",
   "execution_count": 253,
   "metadata": {},
   "outputs": [],
   "source": [
    "coach_links = []\n",
    "team_name = []\n",
    "\n",
    "# obtain the links for the coaches\n",
    "for team in team_abbrs:\n",
    "    # for each team, it contains link to data of their coach\n",
    "    with open(f'data/teams/{team}.html', encoding=\"cp437\", errors='ignore') as f:\n",
    "        page = f.read()\n",
    "\n",
    "        # initialize soup object to parse html data\n",
    "        soup = BeautifulSoup(page, \"html.parser\")\n",
    "\n",
    "        # find the link for the coach details\n",
    "        info = soup.find(id='meta').find(\n",
    "            'div', {'data-template': \"Partials/Teams/Summary\"})\n",
    "\n",
    "        # obtain the href of the coach link tag\n",
    "        coach_link_tag = [p for p in info.find_all(\n",
    "            'p') if 'Coach' in str(p)][0]\n",
    "        coach_link = str(coach_link_tag.find('a')['href'])\n",
    "\n",
    "        # add it to list of coach links\n",
    "        coach_links.append(coach_link)\n"
   ]
  },
  {
   "cell_type": "code",
   "execution_count": 263,
   "metadata": {},
   "outputs": [
    {
     "name": "stdout",
     "output_type": "stream",
     "text": [
      "Directory \"csv_files\" cannot be created\n"
     ]
    }
   ],
   "source": [
    "coach_df = pd.DataFrame(\n",
    "    columns=[\n",
    "        \"Name\",\n",
    "        \"Date of Birth\",\n",
    "        \"Team\"\n",
    "    ]\n",
    ")\n",
    "\n",
    "for team, url, team_name in zip(team_abbrs, coach_links, team_names):\n",
    "    html_data = requests.get(base_url + url)\n",
    "\n",
    "    # get the html content of the url\n",
    "    html = html_data.text\n",
    "\n",
    "    # initialize soup object to parse html data\n",
    "    soup = BeautifulSoup(html, \"html.parser\")\n",
    "\n",
    "    # get the name of the coach\n",
    "    name = soup.find(id='meta').find('h1').text.strip()\n",
    "\n",
    "    # dob\n",
    "    dob = soup.find(id=\"necro-birth\").text.strip()\n",
    "    dob_obj = datetime.strptime(dob, \"%B %d, %Y\")\n",
    "    dob = str(dob_obj).split(' ')[0]\n",
    "\n",
    "    coach_df.loc[coach_df.shape[0]] = [name, dob, team_name]\n",
    "\n"
   ]
  },
  {
   "cell_type": "code",
   "execution_count": 304,
   "metadata": {},
   "outputs": [],
   "source": [
    "# change type of dob to datetime64\n",
    "coach_df['Date of Birth'] = pd.to_datetime(coach_df['Date of Birth'])"
   ]
  },
  {
   "cell_type": "code",
   "execution_count": 305,
   "metadata": {},
   "outputs": [
    {
     "name": "stdout",
     "output_type": "stream",
     "text": [
      "Directory \"csv_files\" cannot be created\n"
     ]
    }
   ],
   "source": [
    "# adjust indexing on current data frame\n",
    "coach_df.index += 1\n",
    "\n",
    "# save it to a csv file\n",
    "\n",
    "# create directory\n",
    "dir_name = 'csv_files'\n",
    "\n",
    "try:\n",
    "    os.makedirs(dir_name)\n",
    "except OSError as error:\n",
    "    print(f'Directory \"{dir_name}\" cannot be created')\n",
    "\n",
    "coach_df.to_csv('csv_files/coaches.csv')"
   ]
  },
  {
   "cell_type": "code",
   "execution_count": 289,
   "metadata": {},
   "outputs": [
    {
     "data": {
      "text/plain": [
       "Name                object\n",
       "Abbreviated Name    object\n",
       "Arena               object\n",
       "Wins                 int64\n",
       "Losses               int64\n",
       "W-L                 object\n",
       "dtype: object"
      ]
     },
     "execution_count": 289,
     "metadata": {},
     "output_type": "execute_result"
    }
   ],
   "source": [
    "# here to check the types of the fields in the dataframes\n",
    "teams_df.dtypes"
   ]
  },
  {
   "cell_type": "code",
   "execution_count": 296,
   "metadata": {},
   "outputs": [
    {
     "data": {
      "text/plain": [
       "Field Goals                      float64\n",
       "Field Goals Attempted            float64\n",
       "Field Goal %                     float64\n",
       "3-Point Field Goals              float64\n",
       "3-Point Field Goals Attempted    float64\n",
       "3-Point Field Goal %             float64\n",
       "2-Point Field Goals              float64\n",
       "2-Point Field Goals Attempted    float64\n",
       "2-Point Field Goal %             float64\n",
       "Free Throws                      float64\n",
       "Free Throws Attempted            float64\n",
       "Free Throw %                     float64\n",
       "Offensive Rebounds               float64\n",
       "Defensive Rebounds               float64\n",
       "Total Rebounds                   float64\n",
       "Assists                          float64\n",
       "Steals                           float64\n",
       "Blocks                           float64\n",
       "Turnovers                        float64\n",
       "Personal Fouls                   float64\n",
       "Points                           float64\n",
       "Name                              object\n",
       "dtype: object"
      ]
     },
     "execution_count": 296,
     "metadata": {},
     "output_type": "execute_result"
    }
   ],
   "source": [
    "teams_stats_df.dtypes"
   ]
  },
  {
   "cell_type": "code",
   "execution_count": 300,
   "metadata": {},
   "outputs": [
    {
     "data": {
      "text/plain": [
       "Name                     object\n",
       "Date of Birth    datetime64[ns]\n",
       "Position                 object\n",
       "Team                     object\n",
       "dtype: object"
      ]
     },
     "execution_count": 300,
     "metadata": {},
     "output_type": "execute_result"
    }
   ],
   "source": [
    "players_df.dtypes"
   ]
  },
  {
   "cell_type": "code",
   "execution_count": 303,
   "metadata": {},
   "outputs": [
    {
     "data": {
      "text/plain": [
       "Name                              object\n",
       "Minutes Played                   float64\n",
       "Field Goals                      float64\n",
       "Field Goals Attempted            float64\n",
       "Field Goal %                     float64\n",
       "3-Point Field Goals              float64\n",
       "3-Point Field Goals Attempted    float64\n",
       "3-Point Field Goal %             float64\n",
       "2-Point Field Goals              float64\n",
       "2-Point Field Goals Attempted    float64\n",
       "2-Point Field Goal %             float64\n",
       "Effective Field Goal %           float64\n",
       "Free Throws                      float64\n",
       "Free Throws Attempted            float64\n",
       "Free Throw %                     float64\n",
       "Offensive Rebounds               float64\n",
       "Defensive Rebounds               float64\n",
       "Total Rebounds                   float64\n",
       "Assists                          float64\n",
       "Steals                           float64\n",
       "Blocks                           float64\n",
       "Turnovers                        float64\n",
       "Personal Fouls                   float64\n",
       "Points                           float64\n",
       "dtype: object"
      ]
     },
     "execution_count": 303,
     "metadata": {},
     "output_type": "execute_result"
    }
   ],
   "source": [
    "players_stats_df.dtypes"
   ]
  },
  {
   "cell_type": "code",
   "execution_count": 306,
   "metadata": {},
   "outputs": [
    {
     "data": {
      "text/plain": [
       "Name                     object\n",
       "Date of Birth    datetime64[ns]\n",
       "Team                     object\n",
       "dtype: object"
      ]
     },
     "execution_count": 306,
     "metadata": {},
     "output_type": "execute_result"
    }
   ],
   "source": [
    "coach_df.dtypes"
   ]
  },
  {
   "cell_type": "markdown",
   "metadata": {},
   "source": [
    "### All data collected and saved to csv files under 'csv_files'\n",
    "- now write script to create database tables, read data from csv files and insert to database (file is 'nba_script.py')\n",
    "- filter/clean any data that might need"
   ]
  },
  {
   "cell_type": "code",
   "execution_count": 308,
   "metadata": {},
   "outputs": [],
   "source": [
    "import psycopg2"
   ]
  },
  {
   "cell_type": "code",
   "execution_count": 311,
   "metadata": {},
   "outputs": [],
   "source": [
    "# need to convert pandas data types to database data types\n",
    "# pandas data type: postgres data type\n",
    "type_replacements = {\n",
    "    'object': 'varchar',\n",
    "    'float64': 'float',\n",
    "    'int64': 'int',\n",
    "    'datetime64': 'timestamp',\n",
    "    'timedelta64[ns]': 'varchar'\n",
    "}"
   ]
  },
  {
   "cell_type": "code",
   "execution_count": 330,
   "metadata": {},
   "outputs": [
    {
     "data": {
      "text/plain": [
       "'Name varchar, Abbreviated Name varchar, Arena varchar, Wins int, Losses int, W-L varchar'"
      ]
     },
     "execution_count": 330,
     "metadata": {},
     "output_type": "execute_result"
    }
   ],
   "source": [
    "# loop through every column in the data frame, and append the postgres matching data type\n",
    "# i.e., 'Name varchar, Wins int' to be used for create table statement\n",
    "\n",
    "# teams_df.dtypes.replace(type_replacements) replaces the pandas types with our dictionary type mappings\n",
    "# column_names = \", \".join([c, t for c, t in zip()])\n",
    "\n",
    "col_types_strings = []\n",
    "\n",
    "for (c, t) in zip(teams_df.columns, teams_df.dtypes.replace(type_replacements)):\n",
    "    col_types_strings.append(f'{c} {t}')\n",
    "    \n",
    "column_string = \", \".join(col_types_strings)\n",
    "\n",
    "column_string\n"
   ]
  }
 ],
 "metadata": {
  "interpreter": {
   "hash": "6184136c414f2ed1c234f4dbd1a92b7a98a1510cf556a32e9118757207ffca48"
  },
  "kernelspec": {
   "display_name": "Python 3.8.5 ('.venv': venv)",
   "language": "python",
   "name": "python3"
  },
  "language_info": {
   "codemirror_mode": {
    "name": "ipython",
    "version": 3
   },
   "file_extension": ".py",
   "mimetype": "text/x-python",
   "name": "python",
   "nbconvert_exporter": "python",
   "pygments_lexer": "ipython3",
   "version": "3.8.5"
  },
  "orig_nbformat": 4
 },
 "nbformat": 4,
 "nbformat_minor": 2
}
